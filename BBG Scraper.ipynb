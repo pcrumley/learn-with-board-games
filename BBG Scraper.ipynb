{
 "cells": [
  {
   "cell_type": "code",
   "execution_count": 1,
   "metadata": {},
   "outputs": [],
   "source": [
    "# Import libraries\n",
    "import requests\n",
    "import urllib.request\n",
    "import time\n",
    "from tqdm import tqdm\n",
    "from bs4 import BeautifulSoup\n"
   ]
  },
  {
   "cell_type": "code",
   "execution_count": 9,
   "metadata": {},
   "outputs": [
    {
     "name": "stderr",
     "output_type": "stream",
     "text": [
      "100%|██████████| 19/19 [00:24<00:00,  1.28s/it]\n"
     ]
    }
   ],
   "source": [
    "# Set the URL you want to webscrape from\n",
    "all_games = []\n",
    "for i in tqdm(range(1,20)):\n",
    "\n",
    "    # Connect to the URL\n",
    "    response = requests.get('https://boardgamegeek.com/browse/boardgame/page/{i}')\n",
    "\n",
    "    # Parse HTML and save to BeautifulSoup object¶\n",
    "    soup = BeautifulSoup(response.text, \"html.parser\")\n",
    "\n",
    "    for row in soup.find_all(id='row_'):\n",
    "        all_games.append(row.find_all('a')[1].get('href'))\n",
    "        #print(row.find_all('a')[1].get('href'))\n"
   ]
  },
  {
   "cell_type": "code",
   "execution_count": 6,
   "metadata": {},
   "outputs": [],
   "source": [
    "game_id = list(map(lambda x: x.split('/')[2], all_games))"
   ]
  },
  {
   "cell_type": "code",
   "execution_count": 8,
   "metadata": {},
   "outputs": [
    {
     "data": {
      "text/plain": [
       "1900"
      ]
     },
     "execution_count": 8,
     "metadata": {},
     "output_type": "execute_result"
    }
   ],
   "source": [
    "len(game_id)"
   ]
  },
  {
   "cell_type": "code",
   "execution_count": 29,
   "metadata": {},
   "outputs": [
    {
     "name": "stderr",
     "output_type": "stream",
     "text": [
      " 14%|█▍        | 2/14 [00:00<00:02,  4.51it/s]"
     ]
    },
    {
     "name": "stdout",
     "output_type": "stream",
     "text": [
      "<tr id=\"row_\">\n",
      "<td align=\"center\" class=\"collection_rank\">\n",
      "<a name=\"1\"></a>\t\t\t1\t\t\t\n",
      "\t\t\t\t\t</td>\n",
      "<td class=\"collection_thumbnail\">\n",
      "<a href=\"/boardgame/256952/zombie-kidz-evolution\"><img src=\"https://cf.geekdo-images.com/micro/img/-j03LboNWMp0HIrxEEVDbixmNX8=/fit-in/64x64/pic4334067.jpg\"/></a>\n",
      "</td>\n",
      "<td class=\"collection_objectname\" id=\"CEcell_objectname1\">\n",
      "<div id=\"status_objectname1\"></div>\n",
      "<div id=\"results_objectname1\" onclick=\"\" style=\"z-index:1000;\">\n",
      "<a href=\"/boardgame/256952/zombie-kidz-evolution\">Zombie Kidz Evolution</a>\n",
      "<span class=\"smallerfont dull\">(2018)</span>\n",
      "</div>\n",
      "</td>\n",
      "<td align=\"center\" class=\"collection_bggrating\">\n",
      "\t\t\t7.273\t\t</td>\n",
      "<td align=\"center\" class=\"collection_bggrating\">\n",
      "\t\t\t8.03\t\t</td>\n",
      "<td align=\"center\" class=\"collection_bggrating\">\n",
      "\t\t\t619\t\t</td>\n",
      "<td class=\"collection_shop\">\n",
      "<div class=\"aad\" id=\"aad_thing_256952_textwithprices__\"></div>\n",
      "\t\t\t\t\t\t\t\t\t\t\t\t\t\t\n",
      "\t\t\t\t\t\t\t\t\t\t\t\t\t[<a href=\"/boardgame/256952/zombie-kidz-evolution/marketplace/geekmarket\">Shop</a>]\n",
      "\t\t\t\t\t</td>\n",
      "</tr>\n",
      "<tr id=\"row_\">\n",
      "<td align=\"center\" class=\"collection_rank\">\n",
      "<a name=\"101\"></a>\t\t\t101\t\t\t\n",
      "\t\t\t\t\t</td>\n",
      "<td class=\"collection_thumbnail\">\n",
      "<a href=\"/boardgame/3977/strong-stuff\"><img alt=\"Board Game: Strong Stuff!\" src=\"https://cf.geekdo-images.com/micro/img/2YT9D4uN5epfAdykqO92wCw6ZDU=/fit-in/64x64/pic1161910.jpg\"/></a>\n",
      "</td>\n",
      "<td class=\"collection_objectname\" id=\"CEcell_objectname1\">\n",
      "<div id=\"status_objectname1\"></div>\n",
      "<div id=\"results_objectname1\" onclick=\"\" style=\"z-index:1000;\">\n",
      "<a href=\"/boardgame/3977/strong-stuff\">Strong Stuff!</a>\n",
      "<span class=\"smallerfont dull\">(2002)</span>\n",
      "</div>\n",
      "</td>\n",
      "<td align=\"center\" class=\"collection_bggrating\">\n",
      "\t\t\t6.019\t\t</td>\n",
      "<td align=\"center\" class=\"collection_bggrating\">\n",
      "\t\t\t6.36\t\t</td>\n",
      "<td align=\"center\" class=\"collection_bggrating\">\n",
      "\t\t\t162\t\t</td>\n",
      "<td class=\"collection_shop\">\n",
      "<div class=\"aad\" id=\"aad_thing_3977_textwithprices__\"></div>\n",
      "\t\t\t\t\t\t\t\t\t\t\t\t\t\t\n",
      "\t\t\t\t\t\t\t\t\t\t\t\t\t[<a href=\"/boardgame/3977/strong-stuff/marketplace/geekmarket\">Shop</a>]\n",
      "\t\t\t\t\t</td>\n",
      "</tr>\n"
     ]
    },
    {
     "name": "stderr",
     "output_type": "stream",
     "text": [
      "\r",
      " 21%|██▏       | 3/14 [00:01<00:04,  2.27it/s]"
     ]
    },
    {
     "name": "stdout",
     "output_type": "stream",
     "text": [
      "<tr id=\"row_\">\n",
      "<td align=\"center\" class=\"collection_rank\">\n",
      "<a name=\"201\"></a>\t\t\t201\t\t\t\n",
      "\t\t\t\t\t</td>\n",
      "<td class=\"collection_thumbnail\">\n",
      "<a href=\"/boardgame/42206/7-ate-9\"><img alt=\"Board Game: 7 Ate 9\" src=\"https://cf.geekdo-images.com/micro/img/fWybCckMFXIcOgZczHDtUIvP2WQ=/fit-in/64x64/pic585440.jpg\"/></a>\n",
      "</td>\n",
      "<td class=\"collection_objectname\" id=\"CEcell_objectname1\">\n",
      "<div id=\"status_objectname1\"></div>\n",
      "<div id=\"results_objectname1\" onclick=\"\" style=\"z-index:1000;\">\n",
      "<a href=\"/boardgame/42206/7-ate-9\">7 Ate 9</a>\n",
      "<span class=\"smallerfont dull\">(2009)</span>\n",
      "</div>\n",
      "</td>\n",
      "<td align=\"center\" class=\"collection_bggrating\">\n",
      "\t\t\t5.762\t\t</td>\n",
      "<td align=\"center\" class=\"collection_bggrating\">\n",
      "\t\t\t6.02\t\t</td>\n",
      "<td align=\"center\" class=\"collection_bggrating\">\n",
      "\t\t\t386\t\t</td>\n",
      "<td class=\"collection_shop\">\n",
      "\t\t\t\t\t\t\t\t\t\t\t\t\n",
      "\t\t\t\t\t\t\t\t\t\t\t\t\t\t\n",
      "\t\t\t\t\t\t\t\t\t\t\t\t\t[<a href=\"/boardgame/42206/7-ate-9/marketplace/geekmarket\">Shop</a>]\n",
      "\t\t\t\t\t</td>\n",
      "</tr>\n"
     ]
    },
    {
     "name": "stderr",
     "output_type": "stream",
     "text": [
      "\r",
      " 29%|██▊       | 4/14 [00:03<00:08,  1.25it/s]"
     ]
    },
    {
     "name": "stdout",
     "output_type": "stream",
     "text": [
      "<tr id=\"row_\">\n",
      "<td align=\"center\" class=\"collection_rank\">\n",
      "<a name=\"301\"></a>\t\t\t301\t\t\t\n",
      "\t\t\t\t\t</td>\n",
      "<td class=\"collection_thumbnail\">\n",
      "<a href=\"/boardgame/17021/dinosaur-dice\"><img alt=\"Board Game: Dinosaur Dice\" src=\"https://cf.geekdo-images.com/micro/img/2qv_11vRJIOyz2BWi2OaYdXBTwc=/fit-in/64x64/pic586396.jpg\"/></a>\n",
      "</td>\n",
      "<td class=\"collection_objectname\" id=\"CEcell_objectname1\">\n",
      "<div id=\"status_objectname1\"></div>\n",
      "<div id=\"results_objectname1\" onclick=\"\" style=\"z-index:1000;\">\n",
      "<a href=\"/boardgame/17021/dinosaur-dice\">Dinosaur Dice</a>\n",
      "<span class=\"smallerfont dull\">(2004)</span>\n",
      "</div>\n",
      "</td>\n",
      "<td align=\"center\" class=\"collection_bggrating\">\n",
      "\t\t\t5.600\t\t</td>\n",
      "<td align=\"center\" class=\"collection_bggrating\">\n",
      "\t\t\t5.73\t\t</td>\n",
      "<td align=\"center\" class=\"collection_bggrating\">\n",
      "\t\t\t35\t\t</td>\n",
      "<td class=\"collection_shop\">\n",
      "\t\t\t\t\t\t\t\t\t\t\t\t\n",
      "\t\t\t\t\t\t\t\t\t\t\t\t\t\t\n",
      "\t\t\t\t\t\t\t\t\t\t\t\t\t[<a href=\"/boardgame/17021/dinosaur-dice/marketplace/geekmarket\">Shop</a>]\n",
      "\t\t\t\t\t</td>\n",
      "</tr>\n",
      "<tr id=\"row_\">\n",
      "<td align=\"center\" class=\"collection_rank\">\n",
      "<a name=\"401\"></a>\t\t\t401\t\t\t\n",
      "\t\t\t\t\t</td>\n",
      "<td class=\"collection_thumbnail\">\n",
      "<a href=\"/boardgame/1950/mysteries-peking\"><img alt=\"Board Game: The Mysteries of Peking\" src=\"https://cf.geekdo-images.com/micro/img/DWlLHgDWqY3jK2GuJ7tt3Kjlvbg=/fit-in/64x64/pic185698.jpg\"/></a>\n",
      "</td>\n",
      "<td class=\"collection_objectname\" id=\"CEcell_objectname1\">\n",
      "<div id=\"status_objectname1\"></div>\n",
      "<div id=\"results_objectname1\" onclick=\"\" style=\"z-index:1000;\">\n",
      "<a href=\"/boardgame/1950/mysteries-peking\">The Mysteries of Peking</a>\n",
      "<span class=\"smallerfont dull\">(1987)</span>\n",
      "</div>\n",
      "</td>\n",
      "<td align=\"center\" class=\"collection_bggrating\">\n",
      "\t\t\t5.477\t\t</td>\n",
      "<td align=\"center\" class=\"collection_bggrating\">\n",
      "\t\t\t5.71\t\t</td>\n",
      "<td align=\"center\" class=\"collection_bggrating\">\n",
      "\t\t\t932\t\t</td>\n",
      "<td class=\"collection_shop\">\n",
      "\t\t\t\t\t\t\t\t\t\t\t\t\n",
      "\t\t\t\t\t\t\t\t\t\t\t\t\t\t\n",
      "\t\t\t\t\t\t\t\t\t\t\t\t\t[<a href=\"/boardgame/1950/mysteries-peking/marketplace/geekmarket\">Shop</a>]\n",
      "\t\t\t\t\t</td>\n",
      "</tr>\n"
     ]
    },
    {
     "name": "stderr",
     "output_type": "stream",
     "text": [
      " 43%|████▎     | 6/14 [00:04<00:07,  1.12it/s]"
     ]
    },
    {
     "name": "stdout",
     "output_type": "stream",
     "text": [
      "<tr id=\"row_\">\n",
      "<td align=\"center\" class=\"collection_rank\">\n",
      "<a name=\"501\"></a>\t\t\t501\t\t\t\n",
      "\t\t\t\t\t</td>\n",
      "<td class=\"collection_thumbnail\">\n",
      "<a href=\"/boardgame/13490/ballons\"><img alt=\"Board Game: Ballons\" src=\"https://cf.geekdo-images.com/micro/img/NR0YjU__zpwhygrMyNfTuM6Mzmk=/fit-in/64x64/pic54874.jpg\"/></a>\n",
      "</td>\n",
      "<td class=\"collection_objectname\" id=\"CEcell_objectname1\">\n",
      "<div id=\"status_objectname1\"></div>\n",
      "<div id=\"results_objectname1\" onclick=\"\" style=\"z-index:1000;\">\n",
      "<a href=\"/boardgame/13490/ballons\">Ballons</a>\n",
      "<span class=\"smallerfont dull\">(2003)</span>\n",
      "</div>\n",
      "</td>\n",
      "<td align=\"center\" class=\"collection_bggrating\">\n",
      "\t\t\t5.351\t\t</td>\n",
      "<td align=\"center\" class=\"collection_bggrating\">\n",
      "\t\t\t5.18\t\t</td>\n",
      "<td align=\"center\" class=\"collection_bggrating\">\n",
      "\t\t\t75\t\t</td>\n",
      "<td class=\"collection_shop\">\n",
      "\t\t\t\t\t\t\t\t\t\t\t\t\n",
      "\t\t\t\t\t\t\t\t\t\t\t\t\t\t\n",
      "\t\t\t\t\t\t\t\t\t\t\t\t\t[<a href=\"/boardgame/13490/ballons/marketplace/geekmarket\">Shop</a>]\n",
      "\t\t\t\t\t</td>\n",
      "</tr>\n"
     ]
    },
    {
     "name": "stderr",
     "output_type": "stream",
     "text": [
      " 57%|█████▋    | 8/14 [00:05<00:03,  1.85it/s]"
     ]
    },
    {
     "name": "stdout",
     "output_type": "stream",
     "text": [
      "<tr id=\"row_\">\n",
      "<td align=\"center\" class=\"collection_rank\">\n",
      "<a name=\"601\"></a>\t\t\t601\t\t\t\n",
      "\t\t\t\t\t</td>\n",
      "<td class=\"collection_thumbnail\">\n",
      "<a href=\"/boardgame/8633/monopoly-disney\"><img alt=\"Board Game: Monopoly: Disney\" src=\"https://cf.geekdo-images.com/micro/img/J-RaKcpwLWDyKyLeUZUqhzjBY2Y=/fit-in/64x64/pic55937.jpg\"/></a>\n",
      "</td>\n",
      "<td class=\"collection_objectname\" id=\"CEcell_objectname1\">\n",
      "<div id=\"status_objectname1\"></div>\n",
      "<div id=\"results_objectname1\" onclick=\"\" style=\"z-index:1000;\">\n",
      "<a href=\"/boardgame/8633/monopoly-disney\">Monopoly: Disney</a>\n",
      "<span class=\"smallerfont dull\">(2001)</span>\n",
      "</div>\n",
      "</td>\n",
      "<td align=\"center\" class=\"collection_bggrating\">\n",
      "\t\t\t5.185\t\t</td>\n",
      "<td align=\"center\" class=\"collection_bggrating\">\n",
      "\t\t\t5.16\t\t</td>\n",
      "<td align=\"center\" class=\"collection_bggrating\">\n",
      "\t\t\t438\t\t</td>\n",
      "<td class=\"collection_shop\">\n",
      "<div class=\"aad\" id=\"aad_thing_8633_textwithprices__\"></div>\n",
      "\t\t\t\t\t\t\t\t\t\t\t\t\t\t\n",
      "\t\t\t\t\t\t\t\t\t\t\t\t\t[<a href=\"/boardgame/8633/monopoly-disney/marketplace/geekmarket\">Shop</a>]\n",
      "\t\t\t\t\t</td>\n",
      "</tr>\n",
      "<tr id=\"row_\">\n",
      "<td align=\"center\" class=\"collection_rank\">\n",
      "<a name=\"701\"></a>\t\t\t701\t\t\t\n",
      "\t\t\t\t\t</td>\n",
      "<td class=\"collection_thumbnail\">\n",
      "<a href=\"/boardgame/7399/allowance-game\"><img alt=\"Board Game: The Allowance Game\" src=\"https://cf.geekdo-images.com/micro/img/-eEUgv4hR1CoWoBTZKXrCPCciZg=/fit-in/64x64/pic386959.jpg\"/></a>\n",
      "</td>\n",
      "<td class=\"collection_objectname\" id=\"CEcell_objectname1\">\n",
      "<div id=\"status_objectname1\"></div>\n",
      "<div id=\"results_objectname1\" onclick=\"\" style=\"z-index:1000;\">\n",
      "<a href=\"/boardgame/7399/allowance-game\">The Allowance Game</a>\n",
      "<span class=\"smallerfont dull\">(1979)</span>\n",
      "</div>\n",
      "</td>\n",
      "<td align=\"center\" class=\"collection_bggrating\">\n",
      "\t\t\t4.920\t\t</td>\n",
      "<td align=\"center\" class=\"collection_bggrating\">\n",
      "\t\t\t4.02\t\t</td>\n",
      "<td align=\"center\" class=\"collection_bggrating\">\n",
      "\t\t\t54\t\t</td>\n",
      "<td class=\"collection_shop\">\n",
      "\t\t\t\t\t\t\t\t\t\t\t\t\n",
      "\t\t\t\t\t\t\t\t\t\t\t\t\t\t\n",
      "\t\t\t\t\t\t\t\t\t\t\t\t\t[<a href=\"/boardgame/7399/allowance-game/marketplace/geekmarket\">Shop</a>]\n",
      "\t\t\t\t\t</td>\n",
      "</tr>\n"
     ]
    },
    {
     "name": "stderr",
     "output_type": "stream",
     "text": [
      "\r",
      " 64%|██████▍   | 9/14 [00:05<00:02,  2.33it/s]"
     ]
    },
    {
     "name": "stdout",
     "output_type": "stream",
     "text": [
      "<tr id=\"row_\">\n",
      "<td align=\"center\" class=\"collection_rank\">\n",
      "\t\t\t\t\t\tN/A\t\t\t\n",
      "\t\t\t\t\t</td>\n",
      "<td class=\"collection_thumbnail\">\n",
      "<a href=\"/boardgame/1139/fantastische-ballonreise\"><img alt=\"Board Game: Fantastische Ballonreise\" src=\"https://cf.geekdo-images.com/micro/img/rBI5TznlfX6NCKNkgrJcmGwQpn4=/fit-in/64x64/pic58595.jpg\"/></a>\n",
      "</td>\n",
      "<td class=\"collection_objectname\" id=\"CEcell_objectname1\">\n",
      "<div id=\"status_objectname1\"></div>\n",
      "<div id=\"results_objectname1\" onclick=\"\" style=\"z-index:1000;\">\n",
      "<a href=\"/boardgame/1139/fantastische-ballonreise\">Fantastische Ballonreise</a>\n",
      "<span class=\"smallerfont dull\">(1977)</span>\n",
      "</div>\n",
      "</td>\n",
      "<td align=\"center\" class=\"collection_bggrating\">\n",
      "\t\t\tN/A\t\t</td>\n",
      "<td align=\"center\" class=\"collection_bggrating\">\n",
      "\t\t\t3.67\t\t</td>\n",
      "<td align=\"center\" class=\"collection_bggrating\">\n",
      "\t\t\t3\t\t</td>\n",
      "<td class=\"collection_shop\">\n",
      "\t\t\t\t\t\t\t\t\t\t\t\t\n",
      "\t\t\t\t\t\t\t\t\t\t\t\t\t\t\n",
      "\t\t\t\t\t\t\t\t\t\t\t\t\t[<a href=\"/boardgame/1139/fantastische-ballonreise/marketplace/geekmarket\">Shop</a>]\n",
      "\t\t\t\t\t</td>\n",
      "</tr>\n"
     ]
    },
    {
     "name": "stderr",
     "output_type": "stream",
     "text": [
      "\r",
      " 71%|███████▏  | 10/14 [00:05<00:01,  2.70it/s]"
     ]
    },
    {
     "name": "stdout",
     "output_type": "stream",
     "text": [
      "<tr id=\"row_\">\n",
      "<td align=\"center\" class=\"collection_rank\">\n",
      "\t\t\t\t\t\tN/A\t\t\t\n",
      "\t\t\t\t\t</td>\n",
      "<td class=\"collection_thumbnail\">\n",
      "<a href=\"/boardgame/4987/meet-presidents\"><div style=\" width:80px; height:60px; border:thin dotted #b0b0b0;\"> </div></a>\n",
      "</td>\n",
      "<td class=\"collection_objectname\" id=\"CEcell_objectname1\">\n",
      "<div id=\"status_objectname1\"></div>\n",
      "<div id=\"results_objectname1\" onclick=\"\" style=\"z-index:1000;\">\n",
      "<a href=\"/boardgame/4987/meet-presidents\">Meet the Presidents</a>\n",
      "<span class=\"smallerfont dull\">(1950)</span>\n",
      "</div>\n",
      "</td>\n",
      "<td align=\"center\" class=\"collection_bggrating\">\n",
      "\t\t\tN/A\t\t</td>\n",
      "<td align=\"center\" class=\"collection_bggrating\">\n",
      "\t\t\t4.64\t\t</td>\n",
      "<td align=\"center\" class=\"collection_bggrating\">\n",
      "\t\t\t14\t\t</td>\n",
      "<td class=\"collection_shop\">\n",
      "\t\t\t\t\t\t\t\t\t\t\t\t\n",
      "\t\t\t\t\t\t\t\t\t\t\t\t\t\t\n",
      "\t\t\t\t\t\t\t\t\t\t\t\t\t[<a href=\"/boardgame/4987/meet-presidents/marketplace/geekmarket\">Shop</a>]\n",
      "\t\t\t\t\t</td>\n",
      "</tr>\n"
     ]
    },
    {
     "name": "stderr",
     "output_type": "stream",
     "text": [
      " 86%|████████▌ | 12/14 [00:07<00:01,  1.84it/s]"
     ]
    },
    {
     "name": "stdout",
     "output_type": "stream",
     "text": [
      "<tr id=\"row_\">\n",
      "<td align=\"center\" class=\"collection_rank\">\n",
      "\t\t\t\t\t\tN/A\t\t\t\n",
      "\t\t\t\t\t</td>\n",
      "<td class=\"collection_thumbnail\">\n",
      "<a href=\"/boardgame/6692/scooby-doo-get-dog\"><img alt=\"Board Game: Scooby-doo! Get That Dog\" src=\"https://cf.geekdo-images.com/micro/img/tnNoIyeJ5H591STnVa7hnp-yNX8=/fit-in/64x64/pic142153.jpg\"/></a>\n",
      "</td>\n",
      "<td class=\"collection_objectname\" id=\"CEcell_objectname1\">\n",
      "<div id=\"status_objectname1\"></div>\n",
      "<div id=\"results_objectname1\" onclick=\"\" style=\"z-index:1000;\">\n",
      "<a href=\"/boardgame/6692/scooby-doo-get-dog\">Scooby-doo! Get That Dog</a>\n",
      "<span class=\"smallerfont dull\">(1999)</span>\n",
      "</div>\n",
      "</td>\n",
      "<td align=\"center\" class=\"collection_bggrating\">\n",
      "\t\t\tN/A\t\t</td>\n",
      "<td align=\"center\" class=\"collection_bggrating\">\n",
      "\t\t\t4.96\t\t</td>\n",
      "<td align=\"center\" class=\"collection_bggrating\">\n",
      "\t\t\t13\t\t</td>\n",
      "<td class=\"collection_shop\">\n",
      "\t\t\t\t\t\t\t\t\t\t\t\t\n",
      "\t\t\t\t\t\t\t\t\t\t\t\t\t\t\n",
      "\t\t\t\t\t\t\t\t\t\t\t\t\t[<a href=\"/boardgame/6692/scooby-doo-get-dog/marketplace/geekmarket\">Shop</a>]\n",
      "\t\t\t\t\t</td>\n",
      "</tr>\n",
      "<tr id=\"row_\">\n",
      "<td align=\"center\" class=\"collection_rank\">\n",
      "\t\t\t\t\t\tN/A\t\t\t\n",
      "\t\t\t\t\t</td>\n",
      "<td class=\"collection_thumbnail\">\n",
      "<a href=\"/boardgame/7903/bambino-dino\"><img alt=\"Board Game: Bambino Dino\" src=\"https://cf.geekdo-images.com/micro/img/UQfforQdhZE4bdZtSIJ_IfGutSw=/fit-in/64x64/pic104035.jpg\"/></a>\n",
      "</td>\n",
      "<td class=\"collection_objectname\" id=\"CEcell_objectname1\">\n",
      "<div id=\"status_objectname1\"></div>\n",
      "<div id=\"results_objectname1\" onclick=\"\" style=\"z-index:1000;\">\n",
      "<a href=\"/boardgame/7903/bambino-dino\">Bambino Dino</a>\n",
      "<span class=\"smallerfont dull\">(2001)</span>\n",
      "</div>\n",
      "</td>\n",
      "<td align=\"center\" class=\"collection_bggrating\">\n",
      "\t\t\tN/A\t\t</td>\n",
      "<td align=\"center\" class=\"collection_bggrating\">\n",
      "\t\t\t3.50\t\t</td>\n",
      "<td align=\"center\" class=\"collection_bggrating\">\n",
      "\t\t\t2\t\t</td>\n",
      "<td class=\"collection_shop\">\n",
      "\t\t\t\t\t\t\t\t\t\t\t\t\n",
      "\t\t\t\t\t\t\t\t\t\t\t\t\t\t\n",
      "\t\t\t\t\t\t\t\t\t\t\t\t\t[<a href=\"/boardgame/7903/bambino-dino/marketplace/geekmarket\">Shop</a>]\n",
      "\t\t\t\t\t</td>\n",
      "</tr>\n"
     ]
    },
    {
     "name": "stderr",
     "output_type": "stream",
     "text": [
      "\r",
      " 93%|█████████▎| 13/14 [00:08<00:00,  1.19it/s]"
     ]
    },
    {
     "name": "stdout",
     "output_type": "stream",
     "text": [
      "<tr id=\"row_\">\n",
      "<td align=\"center\" class=\"collection_rank\">\n",
      "\t\t\t\t\t\tN/A\t\t\t\n",
      "\t\t\t\t\t</td>\n",
      "<td class=\"collection_thumbnail\">\n",
      "<a href=\"/boardgame/8683/worm-wrestle\"><img alt=\"Board Game: Worm Wrestle\" src=\"https://cf.geekdo-images.com/micro/img/SzjjVYidlaYllnNeVSPv7F8vDrk=/fit-in/64x64/pic174249.jpg\"/></a>\n",
      "</td>\n",
      "<td class=\"collection_objectname\" id=\"CEcell_objectname1\">\n",
      "<div id=\"status_objectname1\"></div>\n",
      "<div id=\"results_objectname1\" onclick=\"\" style=\"z-index:1000;\">\n",
      "<a href=\"/boardgame/8683/worm-wrestle\">Worm Wrestle</a>\n",
      "<span class=\"smallerfont dull\">(1976)</span>\n",
      "</div>\n",
      "</td>\n",
      "<td align=\"center\" class=\"collection_bggrating\">\n",
      "\t\t\tN/A\t\t</td>\n",
      "<td align=\"center\" class=\"collection_bggrating\">\n",
      "\t\t\t5.11\t\t</td>\n",
      "<td align=\"center\" class=\"collection_bggrating\">\n",
      "\t\t\t9\t\t</td>\n",
      "<td class=\"collection_shop\">\n",
      "\t\t\t\t\t\t\t\t\t\t\t\t\n",
      "\t\t\t\t\t\t\t\t\t\t\t\t\t\t\n",
      "\t\t\t\t\t\t\t\t\t\t\t\t\t[<a href=\"/boardgame/8683/worm-wrestle/marketplace/geekmarket\">Shop</a>]\n",
      "\t\t\t\t\t</td>\n",
      "</tr>\n"
     ]
    },
    {
     "name": "stderr",
     "output_type": "stream",
     "text": [
      "100%|██████████| 14/14 [00:12<00:00,  1.12it/s]"
     ]
    },
    {
     "name": "stdout",
     "output_type": "stream",
     "text": [
      "<tr id=\"row_\">\n",
      "<td align=\"center\" class=\"collection_rank\">\n",
      "\t\t\t\t\t\tN/A\t\t\t\n",
      "\t\t\t\t\t</td>\n",
      "<td class=\"collection_thumbnail\">\n",
      "<a href=\"/boardgameexpansion/9660/crossbows-and-catapults-dragon\"><img alt=\"Board Game: Crossbows and Catapults: Dragon\" src=\"https://cf.geekdo-images.com/micro/img/y5Ofyi3w-aD9zcw5E0UrVoTILqo=/fit-in/64x64/pic40234.jpg\"/></a>\n",
      "</td>\n",
      "<td class=\"collection_objectname\" id=\"CEcell_objectname1\">\n",
      "<div id=\"status_objectname1\"></div>\n",
      "<div id=\"results_objectname1\" onclick=\"\" style=\"z-index:1000;\">\n",
      "<a href=\"/boardgameexpansion/9660/crossbows-and-catapults-dragon\">Crossbows and Catapults: Dragon</a>\n",
      "<span class=\"smallerfont dull\">(1983)</span>\n",
      "</div>\n",
      "</td>\n",
      "<td align=\"center\" class=\"collection_bggrating\">\n",
      "\t\t\t5.777\t\t</td>\n",
      "<td align=\"center\" class=\"collection_bggrating\">\n",
      "\t\t\t6.94\t\t</td>\n",
      "<td align=\"center\" class=\"collection_bggrating\">\n",
      "\t\t\t38\t\t</td>\n",
      "<td class=\"collection_shop\">\n",
      "\t\t\t\t\t\t\t\t\t\t\t\t\n",
      "\t\t\t\t\t\t\t\t\t\t\t\t\t\t\n",
      "\t\t\t\t\t\t\t\t\t\t\t\t\t[<a href=\"/boardgameexpansion/9660/crossbows-and-catapults-dragon/marketplace/geekmarket\">Shop</a>]\n",
      "\t\t\t\t\t</td>\n",
      "</tr>\n"
     ]
    },
    {
     "name": "stderr",
     "output_type": "stream",
     "text": [
      "\n"
     ]
    }
   ],
   "source": [
    "kid_games = []\n",
    "for i in tqdm(range(1,15)):\n",
    "\n",
    "    # Connect to the URL\n",
    "    response = requests.get(f'https://boardgamegeek.com/childrensgames/browse/boardgame/page/{i}')\n",
    "\n",
    "    # Parse HTML and save to BeautifulSoup object¶\n",
    "    soup = BeautifulSoup(response.text, \"html.parser\")\n",
    "    for row in soup.find_all(id='row_'):\n",
    "        if row.find_all('td')[3].contents[0].strip()!='N/A':\n",
    "            kid_games.append(row.find_all('a')[1].get('href'))\n",
    "\n"
   ]
  },
  {
   "cell_type": "code",
   "execution_count": 34,
   "metadata": {},
   "outputs": [],
   "source": [
    "for elm in map(lambda x: x.split('/')[2], kid_games):\n",
    "    game_id.append(elm)\n"
   ]
  },
  {
   "cell_type": "code",
   "execution_count": 36,
   "metadata": {},
   "outputs": [
    {
     "name": "stderr",
     "output_type": "stream",
     "text": [
      "100%|██████████| 15/15 [00:04<00:00,  3.73it/s]\n"
     ]
    }
   ],
   "source": [
    "family_games = []\n",
    "for i in tqdm(range(1,16)):\n",
    "\n",
    "    # Connect to the URL\n",
    "    response = requests.get(f'https://boardgamegeek.com/familygames/browse/boardgame/page/{i}')\n",
    "\n",
    "    # Parse HTML and save to BeautifulSoup object¶\n",
    "    soup = BeautifulSoup(response.text, \"html.parser\")\n",
    "    for row in soup.find_all(id='row_'):\n",
    "        if row.find_all('td')[3].contents[0].strip()!='N/A':\n",
    "            family_games.append(row.find_all('a')[1].get('href'))\n"
   ]
  },
  {
   "cell_type": "code",
   "execution_count": 37,
   "metadata": {},
   "outputs": [],
   "source": [
    "for elm in map(lambda x: x.split('/')[2], family_games):\n",
    "    game_id.append(elm)\n"
   ]
  },
  {
   "cell_type": "code",
   "execution_count": 39,
   "metadata": {},
   "outputs": [
    {
     "data": {
      "text/plain": [
       "2340"
      ]
     },
     "execution_count": 39,
     "metadata": {},
     "output_type": "execute_result"
    }
   ],
   "source": [
    "len(set(game_id))"
   ]
  },
  {
   "cell_type": "code",
   "execution_count": null,
   "metadata": {},
   "outputs": [],
   "source": []
  }
 ],
 "metadata": {
  "kernelspec": {
   "display_name": "Python 3",
   "language": "python",
   "name": "python3"
  },
  "language_info": {
   "codemirror_mode": {
    "name": "ipython",
    "version": 3
   },
   "file_extension": ".py",
   "mimetype": "text/x-python",
   "name": "python",
   "nbconvert_exporter": "python",
   "pygments_lexer": "ipython3",
   "version": "3.7.3"
  }
 },
 "nbformat": 4,
 "nbformat_minor": 2
}
